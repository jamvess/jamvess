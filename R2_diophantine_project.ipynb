{
  "nbformat": 4,
  "nbformat_minor": 0,
  "metadata": {
    "colab": {
      "name": "R2_diophantine_project.ipynb",
      "provenance": [],
      "authorship_tag": "ABX9TyPfEZVx6lL5raVq7jlYD2xR",
      "include_colab_link": true
    },
    "kernelspec": {
      "name": "python3",
      "display_name": "Python 3"
    },
    "language_info": {
      "name": "python"
    }
  },
  "cells": [
    {
      "cell_type": "markdown",
      "metadata": {
        "id": "view-in-github",
        "colab_type": "text"
      },
      "source": [
        "<a href=\"https://colab.research.google.com/github/jamvess/jamvess/blob/main/R2_diophantine_project.ipynb\" target=\"_parent\"><img src=\"https://colab.research.google.com/assets/colab-badge.svg\" alt=\"Open In Colab\"/></a>"
      ]
    },
    {
      "cell_type": "code",
      "execution_count": 1,
      "metadata": {
        "id": "Wl9W1iZ9pgQW"
      },
      "outputs": [],
      "source": [
        "import numpy as np\n",
        "import matplotlib.pyplot as plt\n",
        "from numpy import random"
      ]
    },
    {
      "cell_type": "code",
      "source": [
        "def cardinal_to_ordinal(num):\n",
        "  if num%10 == 1 and num%100!=11:\n",
        "    return str(num)+\"st\" \n",
        "  elif num%10 == 2 and num%100!=12:\n",
        "    return str(num)+\"nd\"\n",
        "  elif num%10 == 3 and num%100!=13:\n",
        "    return str(num)+\"rd\"\n",
        "  else:\n",
        "    return str(num)+\"th\""
      ],
      "metadata": {
        "id": "XJzNDhZvqg4C"
      },
      "execution_count": 2,
      "outputs": []
    },
    {
      "cell_type": "code",
      "source": [
        "# 1 equation\n",
        "num_var = int(input(\"please input number of variables \"))"
      ],
      "metadata": {
        "id": "0D-MzN_Ipqff",
        "colab": {
          "base_uri": "https://localhost:8080/"
        },
        "outputId": "64650b1b-5d23-45fb-a9a0-cc45efa6af24"
      },
      "execution_count": 3,
      "outputs": [
        {
          "name": "stdout",
          "output_type": "stream",
          "text": [
            "please input number of variables 3\n"
          ]
        }
      ]
    },
    {
      "cell_type": "code",
      "source": [
        "coef=[]\n",
        "for i in range(num_var):\n",
        "  k = int(input(\"please enter your {} coefficient :\".format(cardinal_to_ordinal(i+1))) )\n",
        "  coef.append(k)\n",
        "result = int(input(\"please enter your result of equation :\"))"
      ],
      "metadata": {
        "id": "B2EgOEXIp6h1",
        "colab": {
          "base_uri": "https://localhost:8080/"
        },
        "outputId": "cea89d72-07e7-4187-978e-9ac36ef10d8b"
      },
      "execution_count": 4,
      "outputs": [
        {
          "name": "stdout",
          "output_type": "stream",
          "text": [
            "please enter your 1st coefficient :5\n",
            "please enter your 2nd coefficient :7\n",
            "please enter your 3rd coefficient :8\n",
            "please enter your result of equation :25\n"
          ]
        }
      ]
    },
    {
      "cell_type": "code",
      "source": [
        "#check if equation does exist the solution\n",
        "gcd = np.gcd.reduce(np.array(coef))\n",
        "if result % gcd != 0:\n",
        "  print(\"solution does not exist\")\n",
        "else:\n",
        "  print(\"Let's find out the solution\")"
      ],
      "metadata": {
        "id": "5xU3ZY4oA4p2",
        "colab": {
          "base_uri": "https://localhost:8080/"
        },
        "outputId": "9b9fd745-d3ff-45f2-b2aa-e06f84d91073"
      },
      "execution_count": 5,
      "outputs": [
        {
          "output_type": "stream",
          "name": "stdout",
          "text": [
            "Let's find out the solution\n"
          ]
        }
      ]
    },
    {
      "cell_type": "code",
      "source": [
        "# initial population\n",
        "n=10\n",
        "initial_pop=[]\n",
        "for i in range(n):\n",
        "  k = [random.randint(0,result) for i in range(num_var)]\n",
        "  error = np.abs(np.dot(np.array(k),np.array(coef)) - result)\n",
        "  k.append(error)\n",
        "  initial_pop.append(k)"
      ],
      "metadata": {
        "id": "ayZw-QsfrzPn"
      },
      "execution_count": 6,
      "outputs": []
    },
    {
      "cell_type": "code",
      "source": [
        "solution = []\n",
        "count=0\n",
        "\n",
        "while count <= 5:\n",
        "  # natural selection\n",
        "  selection_pop = []\n",
        "  avg = np.average(np.array(initial_pop)[:,num_var])\n",
        "  for pop in initial_pop:\n",
        "    if pop[num_var]<avg:\n",
        "      selection_pop.append(pop)\n",
        "    if pop[num_var]==0:\n",
        "      solution.append(pop)\n",
        "      count+=1\n",
        "\n",
        "  # reproduction\n",
        "  repro_index = [random.randint(0,len(selection_pop)) for i in range(n)]\n",
        "  repro_population = np.array(selection_pop)[repro_index,:]\n",
        "  repro_population\n",
        "\n",
        "  # mutation\n",
        "  mutated_pop = []\n",
        "  for i in range(n):\n",
        "    mutated_parameter = random.choice([-3,-2,-1,0,1,2,3],num_var)\n",
        "    arr = []\n",
        "    for j in range(num_var):\n",
        "      arr.append(mutated_parameter[j]+repro_population[i][j])\n",
        "    arr.append( np.abs(np.dot(np.array(arr),np.array(coef))-result ))\n",
        "    mutated_pop.append(arr)\n",
        "\n",
        "  initial_pop = mutated_pop"
      ],
      "metadata": {
        "id": "wLMDPTwatoCZ"
      },
      "execution_count": 7,
      "outputs": []
    },
    {
      "cell_type": "code",
      "source": [
        "solution"
      ],
      "metadata": {
        "colab": {
          "base_uri": "https://localhost:8080/"
        },
        "id": "LOj0YdhGaHb8",
        "outputId": "c505322e-e6f5-4613-9a7c-1dc70ecbd7f1"
      },
      "execution_count": 8,
      "outputs": [
        {
          "output_type": "execute_result",
          "data": {
            "text/plain": [
              "[[10, -7, 3, 0],\n",
              " [12, -5, 0, 0],\n",
              " [6, -11, 9, 0],\n",
              " [-4, -13, 17, 0],\n",
              " [-1, -6, 9, 0],\n",
              " [3, -10, 10, 0]]"
            ]
          },
          "metadata": {},
          "execution_count": 8
        }
      ]
    }
  ]
}